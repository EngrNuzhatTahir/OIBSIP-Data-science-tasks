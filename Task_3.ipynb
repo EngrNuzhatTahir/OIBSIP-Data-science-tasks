{
  "nbformat": 4,
  "nbformat_minor": 0,
  "metadata": {
    "colab": {
      "provenance": []
    },
    "kernelspec": {
      "name": "python3",
      "display_name": "Python 3"
    },
    "language_info": {
      "name": "python"
    }
  },
  "cells": [
    {
      "cell_type": "markdown",
      "source": [
        "\"\"\"# **Task 3**\n",
        "\n",
        "**EMAIL SPAM DETECTION WITH MACHINE LEARNING**\n",
        "\n",
        "Weve all been the recipient of spam emails before. Spam mail, or junk mail, is a type of email\n",
        "that is sent to a massive number of users at one time, frequently containing cryptic\n",
        "messages, scams, or most dangerously, phishing content.\n",
        "In this Project, use Python to build an email spam detector. Then, use machine learning to\n",
        "train the spam detector to recognize and classify emails into spam and non-spam. Lets get\n",
        "started!\n",
        "DOWNLOAD DATASET FROM HERE\n",
        "\"\"\""
      ],
      "metadata": {
        "id": "yhOjkf9ueNzu"
      }
    },
    {
      "cell_type": "code",
      "source": [
        "import pandas as pd\n",
        "from sklearn.feature_extraction.text import CountVectorizer\n",
        "from sklearn.model_selection import train_test_split\n",
        "from sklearn.naive_bayes import MultinomialNB\n",
        "from sklearn.metrics import accuracy_score\n",
        "sms_data = pd.read_csv('/content/spam.csv', encoding='ISO-8859-1')\n",
        "\n",
        "sms_data\n",
        "\n",
        "sms_data.isna().sum()\n",
        "\n",
        "# Adjust the column names accordingly\n",
        "sms_data = sms_data[['v1', 'v2']]\n",
        "sms_data\n",
        "\n",
        "print(sms_data.columns)\n",
        "\n",
        "sms_data.columns = ['label', 'message']\n",
        "sms_data.groupby('label').describe()\n",
        "\n",
        "sms_data.replace({\n",
        "    'spam': 1,\n",
        "    'ham': 0\n",
        "}, inplace=True)\n",
        "sms_data\n",
        "\n",
        "X_train.shape, X_test.shape\n",
        "\n",
        "type(X_train), type(X_train.values)\n",
        "\n",
        "# Split the data into training and testing sets\n",
        "X = sms_data['message']\n",
        "y = sms_data['label']\n",
        "X_train, X_test, y_train, y_test = train_test_split(X, y, test_size=0.2, random_state=42)\n",
        "vectorizer = CountVectorizer()\n",
        "X_train_vectorized = vectorizer.fit_transform(X_train.values)\n",
        "X_train_vectorized.toarray()\n",
        "\n",
        "model = MultinomialNB()\n",
        "model.fit(X_train_vectorized, y_train)\n",
        "\n",
        "email = X_train.sample(5)\n",
        "print(email)\n",
        "email_count = vectorizer.transform(email)\n",
        "model.predict(email_count)\n",
        "\n",
        "X_test_vectorized = vectorizer.transform(X_test)\n",
        "\n",
        "# Make predictions on the test set\n",
        "y_pred = model.predict(X_test_vectorized)\n",
        "\n",
        "# Evaluate the model\n",
        "accuracy = accuracy_score(y_test, y_pred)\n",
        "print(\"Accuracy:\", accuracy)\n",
        "\n",
        "import matplotlib.pyplot as plt\n",
        "import seaborn as sns\n",
        "from sklearn.metrics import confusion_matrix\n",
        "\n",
        "# Generate confusion matrix\n",
        "cm = confusion_matrix(y_test, y_pred)\n",
        "\n",
        "# Plot confusion matrix\n",
        "plt.figure(figsize=(8, 6))\n",
        "sns.heatmap(cm, annot=True, cmap=\"Blues\")\n",
        "plt.xlabel('Predicted Labels')\n",
        "plt.ylabel('Actual Labels')\n",
        "plt.title('Confusion Matrix')\n",
        "plt.show()"
      ],
      "metadata": {
        "colab": {
          "base_uri": "https://localhost:8080/",
          "height": 703
        },
        "id": "ZIZlaGXnftxN",
        "outputId": "df3d439a-c04f-443a-d21e-3cf87c651afb"
      },
      "execution_count": 4,
      "outputs": [
        {
          "output_type": "stream",
          "name": "stdout",
          "text": [
            "Index(['v1', 'v2'], dtype='object')\n",
            "4701                                           Anytime...\n",
            "2127    Tessy..pls do me a favor. Pls convey my birthd...\n",
            "3590              How much would it cost to hire a hitman\n",
            "919                 Dont talk to him ever ok its my word.\n",
            "2331                                   At home by the way\n",
            "Name: message, dtype: object\n",
            "Accuracy: 0.9838565022421525\n"
          ]
        },
        {
          "output_type": "display_data",
          "data": {
            "text/plain": [
              "<Figure size 800x600 with 2 Axes>"
            ],
            "image/png": "[encoded data removed]"
          },
          "metadata": {}
        }
      ]
    }
  ]
}